{
 "cells": [
  {
   "cell_type": "markdown",
   "metadata": {},
   "source": [
    "# Implementation and Evaluation of Metrics for Crash Point Determination for Aircraft Trajectory Risk Optimization (Code)"
   ]
  },
  {
   "cell_type": "markdown",
   "metadata": {},
   "source": [
    "Note: The chapters mentioned in the notes below correspond to the chapters in the thesis"
   ]
  },
  {
   "cell_type": "markdown",
   "metadata": {},
   "source": [
    "## 3.2.1 Development Environment"
   ]
  },
  {
   "cell_type": "code",
   "execution_count": 1,
   "metadata": {},
   "outputs": [],
   "source": [
    "import numpy as np\n",
    "import matplotlib.pyplot as plt \n",
    "import seaborn as sns; sns.set()\n",
    "import pandas as pd\n",
    "import utm\n",
    "from scipy import integrate"
   ]
  },
  {
   "cell_type": "markdown",
   "metadata": {},
   "source": [
    "## Convert the latitude and longitude coordinates to X-Y coordinates. \n",
    "Only a rough conversion is done here. In actual applications, a more accurate conversion method may be required."
   ]
  },
  {
   "cell_type": "code",
   "execution_count": 2,
   "metadata": {},
   "outputs": [],
   "source": [
    "def ltln_to_xy(lt,ln):\n",
    "    x = lt*110.574\n",
    "    y = ln*np.cos(lt)*111.320\n",
    "    return x,y"
   ]
  },
  {
   "cell_type": "markdown",
   "metadata": {},
   "source": [
    "## 3.2.3 Implementation of Accident Models"
   ]
  },
  {
   "cell_type": "code",
   "execution_count": 3,
   "metadata": {},
   "outputs": [],
   "source": [
    "def Ballistic_descent_model(m, g, rho, A, CD, y, vyi, vxi):\n",
    "    vyih = np.maximum(0, vyi)\n",
    "    \n",
    "    c = 0.5*rho*A*CD\n",
    "    Gamma = np.sqrt(m*g/c)\n",
    "    gamma = 1/Gamma\n",
    "    Hdh = np.arctanh(vyih*gamma)\n",
    "    Huh = np.arctan(vyih*gamma)\n",
    "    Gdh = np.log(np.cosh(Hdh))\n",
    "    Guh = np.log(np.cosh(Huh))\n",
    "    \n",
    "    ttoph = -Gamma/g*np.arctan(gamma*np.minimum(0, vyi))\n",
    "\n",
    "    x1 = m/c*np.log(1+vxi*c*ttoph/m)\n",
    "\n",
    "    tch = m*(g*ttoph-Gamma*Hdh+vxi*(1+(Hdh-g*gamma*ttoph)**2))/(m*g+c*vxi*(g*ttoph-Gamma*Hdh))\n",
    "    \n",
    "    ytop = -m/(2*c)*np.log(1+(gamma*np.minimum(0,vyi)**2))\n",
    "\n",
    "    tdroph = (np.arccosh(np.exp(c*(y-ytop)/m+Gdh))-Hdh)*(Gamma/g)\n",
    "\n",
    "    timh = ttoph + tdroph\n",
    "\n",
    "    vxtop = (m*vxi)/(m+vxi*c*ttoph)\n",
    "    \n",
    "    x2 = m/c*np.log(1+c*vxtop*(np.minimum(timh,tch)-ttoph)/m)\n",
    "\n",
    "    vxc = (m*vxi)/(m+vxi*c*tch)\n",
    "    vyc = Gamma*np.tanh(g*gamma*(tch-ttoph)+Hdh)\n",
    "    \n",
    "    Hc = np.arctanh(gamma*vyc)\n",
    "    Gc = np.log(np.cosh(Hc))\n",
    "\n",
    "    x3 = vxc*np.exp(Gc)*Gamma/g*(np.arctan(np.sinh(g*gamma*(timh-tch))+Hc)-np.arcsin(gamma*vyc))\n",
    "    \n",
    "    x = x1 + x2 + x3\n",
    "\n",
    "    vxim = (m*vxi)/(m+vxi*c*timh) if timh <= tch else vxc*np.exp(Gc)/np.cosh(g*gamma*(timh-tch)+Hc)\n",
    "    vyim = Gamma*np.tanh((g/Gamma)*(timh-ttoph)+Hdh)\n",
    "\n",
    "    return x, timh, vxim, vyim\n",
    "\n",
    "def Uncontrolled_glide_model(gamma, vg, y):\n",
    "    x = gamma*y\n",
    "    tdrop = x/vg\n",
    "    vxim = vg\n",
    "    vyim = y/tdrop\n",
    "    return x, tdrop, vxim, vyim\n",
    "\n",
    "def Parachute_descent_model(Ap, Cdp, m, g, y):\n",
    "    x = 0\n",
    "    vxim = 0\n",
    "    vyim = np.sqrt(2*m*g/(Ap*Cdp))\n",
    "    tdrop = y/vyim\n",
    "    return x, tdrop, vxim, vyim\n",
    "\n",
    "def Vim_angle_wind(vxim, vyim, w, theta, psi):\n",
    "    v_ = np.sqrt(np.square(vxim) + np.square(w) - 2*vxim*w*np.cos(np.pi-np.abs(theta-psi)))\n",
    "    return np.sqrt(np.square(v_)+np.square(vyim)), np.arctan(vyim/v_)\n",
    "    \n",
    "def Wind_frame(w, psi, theta_w, x, t):\n",
    "    py = np.matrix([[np.cos(theta_w),-np.sin(theta_w)],[np.sin(theta_w), np.cos(theta_w)]])*np.matrix([[x],[0]])+w*np.matrix([[np.cos(psi)],[np.sin(psi)]])*t\n",
    "    return py\n",
    "\n",
    "def iintfp(theta, Rmax, vc):\n",
    "    def f(pn, pe): return np.maximum(0, Rmax-np.linalg.norm([pn,pe])+np.cos(np.arctan(pn/pe)+theta)*np.linalg.norm([pn,pe])/vc)\n",
    "    iintfp= integrate.dblquad(f, -np.inf, np.inf, -np.inf, np.inf)[0]\n",
    "    return iintfp\n",
    "\n",
    "def iintfp_polar(theta, Rmax, vc):\n",
    "    def f(r, alpha): return np.maximum(0, Rmax-r+np.cos(alpha+theta)*r/vc)*r\n",
    "    iintfp= integrate.dblquad(f, 0, 2*np.pi, 0, np.inf)[0]\n",
    "    return iintfp\n",
    "\n",
    "# return impact probobility in n x n m^2 area  \n",
    "def Flyaway_model(theta, Rmax, vc, p, sigmava, iintfp):\n",
    "    n = 10\n",
    "    pn, pe = p[0], p[1]\n",
    "    def f_(pn, pe): return np.maximum(0, Rmax-np.linalg.norm([pn,pe])+np.cos(np.arctan(pn/pe)+theta)*np.linalg.norm([pn,pe])/vc)/iintfp\n",
    "    def g(pn, pe): return 1/(2*np.pi*np.square(sigmava))*np.exp(-np.square(np.linalg.norm([pn,pe]))/(2*np.square(sigmava)))\n",
    "    iintf_ = integrate.dblquad(f_, pn, pn+n, pe, pe+n)[0]\n",
    "    iintg = integrate.dblquad(g, pn, pn+n, pe, pe+n)[0]\n",
    "    beta = 0.5\n",
    "    return (1-beta)*iintf_ + beta*iintg\n",
    "    \n",
    "# return impact probobility in annulus area with width delta\n",
    "def Flyaway_model_polar(theta, Rmax, vc, r, delta, sigmava, iintfp):\n",
    "    def g(r,alpha): return 1/(2*np.pi*sigmava**2)*np.exp(-r**2/(2*sigmava**2))*r\n",
    "    def f_(r,alpha): return np.maximum(0, Rmax-r+np.cos(alpha+theta)*r/vc)*r/iintfp\n",
    "    iintf_ = integrate.dblquad(g, 0, 2*np.pi, r, r+delta)[0]\n",
    "    iintg = integrate.dblquad(f_, 0, 2*np.pi, r, r+delta)[0]\n",
    "    beta = 0.5\n",
    "    return (1-beta)*iintf_+beta*iintg"
   ]
  },
  {
   "cell_type": "markdown",
   "metadata": {},
   "source": [
    "## 3.2.7 Implementation of Casualty Estimation Model"
   ]
  },
  {
   "cell_type": "code",
   "execution_count": 4,
   "metadata": {},
   "outputs": [],
   "source": [
    "def Casualty_estimation(Wua,Rp,Lua,Hp,gamma,p,m,vimp,alpha,beta,ps):\n",
    "    Aexp = (Wua+2*Rp)*(Lua+Hp/np.tan(gamma)+2*Rp)\n",
    "    Nexp = Aexp*p\n",
    "    Eimp = 1/2*m*(vimp)**2\n",
    "    Pfatality = 1/(1+(alpha/beta)**(1/2)*(beta/Eimp)**(1/(4*ps)))\n",
    "    Nfatality = Nexp*Pfatality\n",
    "    return Nfatality"
   ]
  },
  {
   "cell_type": "markdown",
   "metadata": {},
   "source": [
    "## Table 3.1: Parameter settings for further research"
   ]
  },
  {
   "cell_type": "code",
   "execution_count": 5,
   "metadata": {},
   "outputs": [],
   "source": [
    "# Random seed\n",
    "np.random.seed(666)\n",
    "\n",
    "# Mass\n",
    "m = 3.75\n",
    "# Gravity acceleration\n",
    "g = 9.82\n",
    "# Air density\n",
    "rho = 1.3\n",
    "# Frontal area\n",
    "A = 0.1\n",
    "# Parachute area\n",
    "Ap = 12.5\n",
    "# number of samples\n",
    "n_samples = 100000\n",
    "# Glide speed\n",
    "vg = 16\n",
    "# Wing span\n",
    "Wua = 3.3 \n",
    "# Length of the UAV\n",
    "Lua = 2.3\n",
    "# Radius of a person\n",
    "Rp = 0.25\n",
    "# Height of a person\n",
    "Hp = 1.75"
   ]
  },
  {
   "cell_type": "markdown",
   "metadata": {},
   "source": [
    "## 3.2.7 Implementation of Casualty Estimation Model"
   ]
  },
  {
   "cell_type": "code",
   "execution_count": 6,
   "metadata": {},
   "outputs": [],
   "source": [
    "# Impact angle\n",
    "im_a = np.pi/4\n",
    "# Impact energy required for a fatality of pobability of 50% with ps = 0.5\n",
    "alpha = 10**6\n",
    "# Impact energy required to cause a fatality as ps goes to zero\n",
    "beta = 100"
   ]
  },
  {
   "cell_type": "markdown",
   "metadata": {},
   "source": [
    "## 2.5.4 Fly-away"
   ]
  },
  {
   "cell_type": "code",
   "execution_count": 7,
   "metadata": {},
   "outputs": [],
   "source": [
    "# The maximum flight range given the avaliable fuel\n",
    "Rmax = 1000\n",
    "# The aircraft cruise airspeed\n",
    "vc = 10\n",
    "# The aircraft ascend more or less vertically with standard deviation \n",
    "sigmava = 10\n",
    "\n",
    "# Cell size\n",
    "cell_size = 10"
   ]
  },
  {
   "cell_type": "markdown",
   "metadata": {},
   "source": [
    "## Select a Accident Model Type"
   ]
  },
  {
   "cell_type": "code",
   "execution_count": 8,
   "metadata": {},
   "outputs": [],
   "source": [
    "# Accident model type: 'b' for Ballistic descent, 'p' for Parachute descent, 'u' for Uncontrolled glide, 'f' for Flyaway\n",
    "type = 'b'"
   ]
  },
  {
   "cell_type": "markdown",
   "metadata": {},
   "source": [
    "## Data cleaning and preprocessing"
   ]
  },
  {
   "cell_type": "code",
   "execution_count": 9,
   "metadata": {},
   "outputs": [],
   "source": [
    "# convert lat,lon aircraft locations to x,y aircraft locations (utm standrad)\n",
    "df=pd.read_csv('C:/Users/think/Desktop/StateDemo2.csv')\n",
    "df_use = df.loc[:,['lat','lon','velocity','heading','vertrate','geoaltitude']]\n",
    "df_use = df_use.loc[0:0]\n",
    "for i,v in enumerate(df_use[['lat','lon']].values):\n",
    "    df_use.iloc[i,:2] = utm.from_latlon(v[0],v[1])[:2]\n",
    "df_use= df_use.rename(columns={'lat': 'x','lon': 'y'})\n",
    "df_use[['x','y','velocity','geoaltitude']] = df_use[['x','y','velocity','geoaltitude']].div(10)"
   ]
  },
  {
   "cell_type": "markdown",
   "metadata": {},
   "source": [
    "## Create lists to store data"
   ]
  },
  {
   "cell_type": "code",
   "execution_count": 10,
   "metadata": {},
   "outputs": [],
   "source": [
    "impact_points = []\n",
    "impact_points_x = []\n",
    "impact_points_y = []\n",
    "aircraft_path_x = []\n",
    "aircraft_path_y = []"
   ]
  },
  {
   "cell_type": "markdown",
   "metadata": {},
   "source": [
    "## Use model to calculate impact points and store in the list"
   ]
  },
  {
   "cell_type": "code",
   "execution_count": 11,
   "metadata": {},
   "outputs": [],
   "source": [
    "if type == 'b':\n",
    "    # Ballistic descent simulation\n",
    "    # according to the aircraft path calculate the impact points\n",
    "    for v in df_use.values:\n",
    "        aircraft_path_x.append(v[0])\n",
    "        aircraft_path_y.append(v[1])\n",
    "        for n_sample in range(n_samples):\n",
    "            vxi = v[2]*np.cos(-v[4]/180*np.pi)\n",
    "            vyi = v[2]*np.sin(-v[4]/180*np.pi)\n",
    "\n",
    "            # Drag coefficient at ballistic descent\n",
    "            CD = np.abs(np.random.normal(0.7,0.2))\n",
    "            # Wind speed\n",
    "            w = np.random.normal(7,2)\n",
    "            # Wind direction\n",
    "            psi_mean = 1.24\n",
    "            psi = np.random.normal(psi_mean,0.17)\n",
    "            \n",
    "            # Flight direction\n",
    "            theta = v[3]/180*np.pi\n",
    "            \n",
    "            xtv = Ballistic_descent_model(m, g, rho, A, CD, v[5], vyi, vxi)\n",
    "            temp = Wind_frame(w, psi, theta, xtv[0], xtv[1]).tolist()\n",
    "            py = temp[1][0], temp[0][0]\n",
    "            x_im, y_im = v[0]+py[0], v[1]+py[1]\n",
    "            v_im, a_im = Vim_angle_wind(xtv[2], xtv[3], w, theta, psi)[0:2]\n",
    "            \n",
    "            # impact points with impact speed and impact angle\n",
    "            impact_points.append([x_im,y_im,v_im,a_im])\n",
    "            impact_points_x.append(x_im)\n",
    "            impact_points_y.append(y_im)  \n",
    "            \n",
    "elif type == 'p':\n",
    "    # Parachute descent simulation\n",
    "    # according to the aircraft path calculate the impact points\n",
    "    for v in df_use.values:\n",
    "        aircraft_path_x.append(v[0])\n",
    "        aircraft_path_y.append(v[1])\n",
    "        for n_sample in range(n_samples):\n",
    "            vxi = v[2]*np.cos(-v[4]/180*np.pi)\n",
    "            vyi = v[2]*np.sin(-v[4]/180*np.pi)\n",
    "\n",
    "            # Drag coefficient at parachute descent\n",
    "            Cdp = np.abs(np.random.normal(1.14,0.2))\n",
    "            # Wind speed\n",
    "            w = np.random.normal(7,2)\n",
    "            # Wind direction\n",
    "            psi_mean = 1.24\n",
    "            psi = np.random.normal(psi_mean,0.17)\n",
    "\n",
    "            # Flight direction\n",
    "            theta = v[3]/180*np.pi\n",
    "            \n",
    "            xtv = Parachute_descent_model(Ap, Cdp, m, g, v[5])\n",
    "            temp = Wind_frame(w, psi, theta, xtv[0], xtv[1]).tolist()\n",
    "            py = temp[1][0], temp[0][0]\n",
    "            x_im, y_im = v[0]+py[0], v[1]+py[1]\n",
    "            v_im, a_im = Vim_angle_wind(xtv[2], xtv[3], w, theta, psi)[0:2]\n",
    "            \n",
    "            # impact points with impact speed and impact angle\n",
    "            impact_points.append([x_im,y_im,v_im,a_im])\n",
    "            impact_points_x.append(x_im)\n",
    "            impact_points_y.append(y_im)  \n",
    "            \n",
    "elif type == 'u':            \n",
    "    # Uncontrolled glide simulation\n",
    "    # according to the aircraft path calculate the impact points\n",
    "    for v in df_use.values:\n",
    "        aircraft_path_x.append(v[0])\n",
    "        aircraft_path_y.append(v[1])\n",
    "        for n_sample in range(n_samples):\n",
    "            \n",
    "            vxi = v[2]*np.cos(-v[4]/180*np.pi)\n",
    "            vyi = v[2]*np.sin(-v[4]/180*np.pi)\n",
    "\n",
    "            # Glide ratio at uncontrolled glide\n",
    "            gamma = np.abs(np.random.normal(12,2))\n",
    "            # Wind speed\n",
    "            w = np.random.normal(7,2)\n",
    "            # Wind direction\n",
    "            psi_mean = 1.54\n",
    "            psi = np.random.normal(psi_mean,0.17)\n",
    "            \n",
    "            # Flight direction\n",
    "            theta = v[3]/180*np.pi\n",
    "            \n",
    "            xtv = Uncontrolled_glide_model(gamma, vg, v[5])\n",
    "            temp = Wind_frame(w, psi, theta, xtv[0], xtv[1]).tolist()\n",
    "            py = temp[1][0], temp[0][0]\n",
    "            x_im, y_im = v[0]+py[0], v[1]+py[1]\n",
    "            \n",
    "            v_im, a_im = Vim_angle_wind(xtv[2], xtv[3], w, theta, psi)[0:2]\n",
    "            \n",
    "            # impact points with impact speed and impact angle\n",
    "            impact_points.append([x_im,y_im,v_im,a_im])\n",
    "            impact_points_x.append(x_im)\n",
    "            impact_points_y.append(y_im)"
   ]
  },
  {
   "cell_type": "markdown",
   "metadata": {},
   "source": [
    "## Draw the heat map based on impact points\n",
    "Note: In order to simplify the test, the impact points here are only distributed in the northeast direction of the aircraft position. All directions should be considered in actual applications, otherwise an error will be reported"
   ]
  },
  {
   "cell_type": "code",
   "execution_count": 12,
   "metadata": {},
   "outputs": [],
   "source": [
    "if type != 'f':\n",
    "    # Set heatmap size, where each cell of heatmap is cell_size x cell_size m^2\n",
    "    max_x, min_x = max(impact_points_x + aircraft_path_x), min(impact_points_x + aircraft_path_x)\n",
    "    max_y, min_y = max(impact_points_y + aircraft_path_y), min(impact_points_y + aircraft_path_y)\n",
    "    x_length = int((max_x-min_x)//cell_size+1)\n",
    "    y_length = int((max_y-min_y)//cell_size+1)\n",
    "    heatmap_data = np.zeros((y_length+1, x_length+1))\n",
    "#     # Set no-fly zone\n",
    "#     no_fly_zone = []\n",
    "#     for x in range(int((x_length+1)/10)):\n",
    "#         for y in range(int((y_length+1)/10)):\n",
    "#             no_fly_zone.append([x,y])\n",
    "    # Set population density map with the same size as the heatmap size\n",
    "    populationmap_data = np.full((y_length+1, x_length+1),232)\n",
    "    # Set schelter map with the same size as the heatmap size\n",
    "    sheltermap_data = np.full((y_length+1, x_length+1),0.5)\n",
    "    \n",
    "elif type == 'f':\n",
    "    # load aircraft path loactions\n",
    "    for v in df_use.values: \n",
    "        aircraft_path_x.append(v[0])\n",
    "        aircraft_path_y.append(v[1]) \n",
    "    # Set heatmap size, where each cell of heatmap is cell_size x cell_size m^2 \n",
    "    max_x, min_x = max(aircraft_path_x)+Rmax, min(aircraft_path_x)-Rmax\n",
    "    max_y, min_y = max(aircraft_path_y)+Rmax, min(aircraft_path_y)-Rmax\n",
    "    x_length = int((max_x-min_x)//cell_size+1)\n",
    "    y_length = int((max_y-min_y)//cell_size+1)\n",
    "    heatmap_data = np.zeros((y_length+1, x_length+1))\n",
    "    # Set population density map with the same size as the heatmap size\n",
    "    populationmap_data = np.full((y_length+1, x_length+1),232)\n",
    "    # Set schelter map with the same size as the heatmap size\n",
    "    sheltermap_data = np.full((y_length+1, x_length+1),0.5)"
   ]
  },
  {
   "cell_type": "markdown",
   "metadata": {},
   "source": [
    "## Create population density maps and shadow maps if necessary. \n",
    "Note: Here is omitted to simplify the test"
   ]
  },
  {
   "cell_type": "code",
   "execution_count": 13,
   "metadata": {},
   "outputs": [],
   "source": [
    "# # Set population density map values\n",
    "\n",
    "# # number of random centers\n",
    "# n_centers = 10\n",
    "# # covariance matrix\n",
    "# cov = np.array([[10000/cell_size,0],\n",
    "#               [0,10000/cell_size]])\n",
    "# mus = np.random.uniform(0, max(x_length,y_length), size=(n_centers, 2))\n",
    "# # number of dense population points\n",
    "# n_dense = int(500000/cell_size)\n",
    "# dense_points = np.zeros((n_dense, 2))\n",
    "\n",
    "# for i in range(n_dense):\n",
    "#     # choose a center randomly\n",
    "#     j = int(np.random.uniform(0, n_centers, size=(1, 1)))\n",
    "#     mu = mus[j]\n",
    "#     # create densely populated area from gauss\n",
    "#     dense_points[i] = np.random.multivariate_normal(mu, cov, 1)\n",
    "# # Set population density values of densely populated area\n",
    "# for point in dense_points:\n",
    "#     if int(point[0]) > 0 and int(point[0]) < y_length and int(point[1]) > 0 and int(point[1]) < x_length:\n",
    "#         populationmap_data[int(point[0])][int(point[1])]+= 0.0001 "
   ]
  },
  {
   "cell_type": "code",
   "execution_count": 14,
   "metadata": {},
   "outputs": [],
   "source": [
    "# # Set shelter map values\n",
    "\n",
    "# # number of random centers\n",
    "# n_centers = 10\n",
    "# # covariance matrix\n",
    "# cov = np.array([[10000/cell_size,0],\n",
    "#               [0,10000/cell_size]])\n",
    "# mus = np.random.uniform(0, max(x_length,y_length), size=(n_centers, 2))\n",
    "# # number of well sheltered points\n",
    "# n_sheltered = int(500000/cell_size)\n",
    "# # well sheltered points\n",
    "# sheltered_points = np.zeros((n_sheltered, 2))\n",
    "\n",
    "# for i in range(n_sheltered):\n",
    "#     # choose a center randomly\n",
    "#     j = int(np.random.uniform(0, n_centers, size=(1, 1)))\n",
    "#     mu = mus[j]\n",
    "#     # create well sheltered area from gauss\n",
    "#     sheltered_points[i] = np.random.multivariate_normal(mu, cov, 1)\n",
    "# # Set well sheltered area with sheltering parametr 0.75\n",
    "\n",
    "# for point in sheltered_points:\n",
    "#     if int(point[0]) > 0 and int(point[0]) < y_length and int(point[1]) > 0 and int(point[1]) < x_length:\n",
    "#         sheltermap_data[int(point[0])][int(point[1])]=0.75"
   ]
  },
  {
   "cell_type": "markdown",
   "metadata": {},
   "source": [
    "## Map aircraft path in heatmap"
   ]
  },
  {
   "cell_type": "code",
   "execution_count": 15,
   "metadata": {},
   "outputs": [],
   "source": [
    "# Map aircraft path in heatmap:\n",
    "if type != 'f':\n",
    "    for i,point_x in enumerate(aircraft_path_x):\n",
    "        aircraft_path_x[i] = (point_x-min_x)/cell_size\n",
    "    for i,point_y in enumerate(aircraft_path_y):\n",
    "        aircraft_path_y[i] = (point_y-min_y)/cell_size \n",
    "        \n",
    "elif type == 'f':\n",
    "    for i,point_x in enumerate(aircraft_path_x):\n",
    "        aircraft_path_x[i] = (point_x-min_x)/cell_size\n",
    "    for i,point_y in enumerate(aircraft_path_y):\n",
    "        aircraft_path_y[i] = (point_y-min_y)/cell_size\n",
    "    Rmax = Rmax/cell_size"
   ]
  },
  {
   "cell_type": "markdown",
   "metadata": {},
   "source": [
    "## Set heatmap values"
   ]
  },
  {
   "cell_type": "code",
   "execution_count": 16,
   "metadata": {},
   "outputs": [],
   "source": [
    "# Map impact points to heatmap points and set heatmap values\n",
    "# for point in no_fly_zone:\n",
    "#     heatmap_data[point[0]][point[1]] = -1/n_samples\n",
    "sum_risk = 0\n",
    "if type != 'f':\n",
    "    for point in impact_points:\n",
    "        heatmap_x = int((point[0]-min_x)//cell_size+1)\n",
    "        heatmap_y = int((point[1]-min_y)//cell_size+1)\n",
    "        risk = 10e-6*(1/len(df_use.values))*(1/n_samples)*Casualty_estimation(Wua,Rp,Lua,Hp,point[3],\n",
    "        populationmap_data[heatmap_y][heatmap_x],m,point[2],alpha,beta,sheltermap_data[heatmap_y][heatmap_x]) \n",
    "        heatmap_data[heatmap_y][heatmap_x] += risk\n",
    "        sum_risk += risk\n",
    "elif type == 'f':\n",
    "    # wind average direction\n",
    "    psi_mean = 1.24\n",
    "    iintfp = iintfp_polar(psi_mean, Rmax, vc) \n",
    "    for i in range(len(aircraft_path_x)):\n",
    "        # Calculate candidates of impact points: \n",
    "        candidates_impact_points = []\n",
    "        # Impact points are all the points in All points in a circle centered on a point on the flight path and Rmax is the radius\n",
    "        for x in range(int(aircraft_path_x[i]-Rmax), int(aircraft_path_x[i]+Rmax)):\n",
    "            for y in range(int(aircraft_path_y[i]-Rmax), int(aircraft_path_y[i]+Rmax)):\n",
    "                if np.linalg.norm(np.array([x,y])-np.array([aircraft_path_x[i], aircraft_path_y[i]]))<=Rmax:\n",
    "                    candidates_impact_points.append([x,y])\n",
    "        # Step width\n",
    "        delta = 4              \n",
    "        # Set risk value of impact points\n",
    "        for r in range(0, int(Rmax), delta):\n",
    "            impact_points = []\n",
    "            v = Flyaway_model_polar(psi_mean, Rmax, vc, r, delta, sigmava, iintfp)\n",
    "            for j,point in enumerate(candidates_impact_points):\n",
    "                if np.linalg.norm(np.array(point)-np.array([aircraft_path_x[i], aircraft_path_y[i]]))<=r:\n",
    "                    impact_points.append([point[0],point[1]])\n",
    "                    del candidates_impact_points[j]\n",
    "            for point in impact_points:\n",
    "                    heatmap_data[point[1]][point[0]] = 10e-6*v*Casualty_estimation(Wua,Rp,Lua,Hp,im_a,\n",
    "        populationmap_data[point[1]][point[0]],m,vc,alpha,beta,sheltermap_data[point[1]][point[0]])"
   ]
  },
  {
   "cell_type": "markdown",
   "metadata": {},
   "source": [
    "## Draw population density maps and shadow maps if necessary. \n",
    "Note: Here is omitted to simplify the test"
   ]
  },
  {
   "cell_type": "code",
   "execution_count": 17,
   "metadata": {},
   "outputs": [],
   "source": [
    "# # draw population density map\n",
    "# # plt.figure(figsize=(30,30))\n",
    "# heatmap = plt.imshow(populationmap_data, cmap='rainbow', origin='lower',extent = [0 , x_length*cell_size, 0 , y_length*cell_size])\n",
    "# colorbar = plt.colorbar(heatmap)\n",
    "# colorbar.set_label('population density')\n",
    "# plt.xlabel('x (m)')\n",
    "# plt.ylabel('y (m)')\n",
    "# # plt.plot(aircraft_path_x,aircraft_path_y,color='black')\n",
    "# # plt.gca().invert_yaxis()"
   ]
  },
  {
   "cell_type": "code",
   "execution_count": 18,
   "metadata": {},
   "outputs": [],
   "source": [
    "# # draw shelter map\n",
    "# # plt.figure(figsize=(30,30))\n",
    "# # plt.xticks(x_ticks)\n",
    "# # plt.yticks(y_ticks)\n",
    "# heatmap = plt.imshow(sheltermap_data, cmap='rainbow', origin='lower',extent = [0 , x_length*cell_size, 0 , y_length*cell_size])\n",
    "# colorbar = plt.colorbar(heatmap)\n",
    "# colorbar.set_label('sheltering parameter')\n",
    "# plt.xlabel('x (m)')\n",
    "# plt.ylabel('y (m)')\n",
    "# # plt.plot(aircraft_path_x,aircraft_path_y,color='black')\n",
    "# # plt.gca().invert_yaxis()"
   ]
  },
  {
   "cell_type": "markdown",
   "metadata": {},
   "source": [
    "## Draw heat map"
   ]
  },
  {
   "cell_type": "code",
   "execution_count": 19,
   "metadata": {
    "scrolled": true
   },
   "outputs": [
    {
     "data": {
      "text/plain": [
       "<matplotlib.legend.Legend at 0x173778d73c8>"
      ]
     },
     "execution_count": 19,
     "metadata": {},
     "output_type": "execute_result"
    },
    {
     "data": {
      "image/png": "[encoded data removed]",
      "text/plain": [
       "<Figure size 432x288 with 2 Axes>"
      ]
     },
     "metadata": {
      "needs_background": "light"
     },
     "output_type": "display_data"
    }
   ],
   "source": [
    "# draw heat map\n",
    "# plt.figure(figsize=(10,10))\n",
    "m = min(x_length,y_length)*cell_size\n",
    "a0, = plt.plot([x*cell_size for x in aircraft_path_x],[y*cell_size for y in aircraft_path_y],color='red')\n",
    "a2 = plt.arrow(aircraft_path_x[0]*cell_size, aircraft_path_y[0]*cell_size, 0.3*m*np.sin(psi_mean), 0.3*m*np.cos(psi_mean), \n",
    "               head_width=0.02*m, head_length=0.04*m, color = 'blue')\n",
    "a2 = plt.arrow(aircraft_path_x[len(aircraft_path_x)//2-1]*cell_size, aircraft_path_y[len(aircraft_path_y)//2-1]*cell_size, 0.3*m*np.sin(psi_mean), 0.3*m*np.cos(psi_mean), \n",
    "               head_width=0.02*m, head_length=0.04*m, color = 'blue')\n",
    "a2 = plt.arrow(aircraft_path_x[-1]*cell_size, aircraft_path_y[-1]*cell_size, 0.3*m*np.sin(psi_mean), 0.3*m*np.cos(psi_mean), \n",
    "               head_width=0.02*m, head_length=0.04*m, color = 'blue')\n",
    "heatmap = plt.imshow(heatmap_data, cmap='rainbow', origin='lower',extent = [0 , x_length*cell_size, 0 , y_length*cell_size])\n",
    "colorbar = plt.colorbar(heatmap)\n",
    "colorbar.set_label('expected number of fatality')\n",
    "plt.xlabel('x (m)')\n",
    "plt.ylabel('y (m)')\n",
    "plt.legend(handles = [a0, a2], labels = ['Aircraft path','Wind direction'], loc = 'best')"
   ]
  }
 ],
 "metadata": {
  "file_extension": ".py",
  "kernelspec": {
   "display_name": "Python 3",
   "language": "python",
   "name": "python3"
  },
  "language_info": {
   "codemirror_mode": {
    "name": "ipython",
    "version": 3
   },
   "file_extension": ".py",
   "mimetype": "text/x-python",
   "name": "python",
   "nbconvert_exporter": "python",
   "pygments_lexer": "ipython3",
   "version": "3.7.4"
  },
  "mimetype": "text/x-python",
  "name": "python",
  "npconvert_exporter": "python",
  "pygments_lexer": "ipython3",
  "version": 3
 },
 "nbformat": 4,
 "nbformat_minor": 2
}
